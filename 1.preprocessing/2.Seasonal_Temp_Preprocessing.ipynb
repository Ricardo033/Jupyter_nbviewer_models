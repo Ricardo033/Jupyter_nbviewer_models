{
 "cells": [
  {
   "cell_type": "code",
   "execution_count": 15,
   "id": "68c03048-ff13-4e7e-a16b-6715966dd56e",
   "metadata": {},
   "outputs": [],
   "source": [
    "## Required packages\n",
    "import pandas as pd"
   ]
  },
  {
   "cell_type": "markdown",
   "id": "bfe10ab5-cd1f-4690-947f-0ea93deb8d37",
   "metadata": {},
   "source": [
    "## Preprocessing for the first two datasets"
   ]
  },
  {
   "cell_type": "markdown",
   "id": "4069323c-c7eb-48a6-81e8-8fdc153762ea",
   "metadata": {},
   "source": [
    "The cleaning step for these datasets just inspects if there are inconcistencies.\n",
    "1. Visualize variables structure and NAN\n",
    "2. Export to preprocessed_data file"
   ]
  },
  {
   "cell_type": "markdown",
   "id": "6f6bce38-b67f-416b-95a4-99c87545cfff",
   "metadata": {},
   "source": [
    "## Preprocessing for the first two datasets"
   ]
  },
  {
   "cell_type": "code",
   "execution_count": 16,
   "id": "41955af5-b0ec-4bf8-b4c9-402070c18f84",
   "metadata": {},
   "outputs": [],
   "source": [
    "av_seas_temp = pd.read_csv(r'C:\\Users\\ricar\\OneDrive\\Escritorio\\Masters_of_Statistics\\Semester_6\\Modern_Data_Analytics\\Project\\August_Exam\\MDA_August_Project\\0.raw_data\\Wheather_and_climate\\Seasonal_Temperatures\\Average_seasonal_Temperature.csv')\n",
    "av_seas_temp = pd.DataFrame(av_seas_temp)"
   ]
  },
  {
   "cell_type": "code",
   "execution_count": 17,
   "id": "e03d5e22-2137-45c4-ad54-32ebca92ed24",
   "metadata": {},
   "outputs": [
    {
     "name": "stdout",
     "output_type": "stream",
     "text": [
      "#==============#\n",
      "Data Type:\n",
      "<class 'pandas.core.frame.DataFrame'>\n",
      "RangeIndex: 125 entries, 0 to 124\n",
      "Data columns (total 5 columns):\n",
      " #   Column  Non-Null Count  Dtype  \n",
      "---  ------  --------------  -----  \n",
      " 0   Year    125 non-null    int64  \n",
      " 1   Winter  125 non-null    float64\n",
      " 2   Spring  125 non-null    float64\n",
      " 3   Summer  125 non-null    float64\n",
      " 4   Fall    125 non-null    float64\n",
      "dtypes: float64(4), int64(1)\n",
      "memory usage: 5.0 KB\n",
      "None\n",
      "#==============#\n",
      "Matrix size:\n",
      "(125, 5)\n",
      "#==============#\n",
      "Missing Values:\n",
      "Year      0\n",
      "Winter    0\n",
      "Spring    0\n",
      "Summer    0\n",
      "Fall      0\n",
      "dtype: int64\n",
      "#==============#\n",
      "Dataset:\n"
     ]
    },
    {
     "data": {
      "text/html": [
       "<div>\n",
       "<style scoped>\n",
       "    .dataframe tbody tr th:only-of-type {\n",
       "        vertical-align: middle;\n",
       "    }\n",
       "\n",
       "    .dataframe tbody tr th {\n",
       "        vertical-align: top;\n",
       "    }\n",
       "\n",
       "    .dataframe thead th {\n",
       "        text-align: right;\n",
       "    }\n",
       "</style>\n",
       "<table border=\"1\" class=\"dataframe\">\n",
       "  <thead>\n",
       "    <tr style=\"text-align: right;\">\n",
       "      <th></th>\n",
       "      <th>Year</th>\n",
       "      <th>Winter</th>\n",
       "      <th>Spring</th>\n",
       "      <th>Summer</th>\n",
       "      <th>Fall</th>\n",
       "    </tr>\n",
       "  </thead>\n",
       "  <tbody>\n",
       "    <tr>\n",
       "      <th>0</th>\n",
       "      <td>1896</td>\n",
       "      <td>0.51</td>\n",
       "      <td>0.02</td>\n",
       "      <td>0.55</td>\n",
       "      <td>-2.49</td>\n",
       "    </tr>\n",
       "    <tr>\n",
       "      <th>1</th>\n",
       "      <td>1897</td>\n",
       "      <td>0.14</td>\n",
       "      <td>-0.55</td>\n",
       "      <td>-0.46</td>\n",
       "      <td>0.59</td>\n",
       "    </tr>\n",
       "    <tr>\n",
       "      <th>2</th>\n",
       "      <td>1898</td>\n",
       "      <td>0.04</td>\n",
       "      <td>-0.33</td>\n",
       "      <td>0.38</td>\n",
       "      <td>-1.77</td>\n",
       "    </tr>\n",
       "    <tr>\n",
       "      <th>3</th>\n",
       "      <td>1899</td>\n",
       "      <td>-4.28</td>\n",
       "      <td>-1.54</td>\n",
       "      <td>-0.24</td>\n",
       "      <td>1.02</td>\n",
       "    </tr>\n",
       "    <tr>\n",
       "      <th>4</th>\n",
       "      <td>1900</td>\n",
       "      <td>-0.07</td>\n",
       "      <td>0.62</td>\n",
       "      <td>0.70</td>\n",
       "      <td>0.79</td>\n",
       "    </tr>\n",
       "  </tbody>\n",
       "</table>\n",
       "</div>"
      ],
      "text/plain": [
       "   Year  Winter  Spring  Summer  Fall\n",
       "0  1896    0.51    0.02    0.55 -2.49\n",
       "1  1897    0.14   -0.55   -0.46  0.59\n",
       "2  1898    0.04   -0.33    0.38 -1.77\n",
       "3  1899   -4.28   -1.54   -0.24  1.02\n",
       "4  1900   -0.07    0.62    0.70  0.79"
      ]
     },
     "execution_count": 17,
     "metadata": {},
     "output_type": "execute_result"
    }
   ],
   "source": [
    "print(\"#==============#\")\n",
    "print(\"Data Type:\")\n",
    "print(av_seas_temp.info())\n",
    "print(\"#==============#\")\n",
    "print(\"Matrix size:\")\n",
    "print(av_seas_temp.shape)\n",
    "print(\"#==============#\")\n",
    "print(\"Missing Values:\")\n",
    "print(av_seas_temp.isna().sum())\n",
    "print(\"#==============#\")\n",
    "print(\"Dataset:\")\n",
    "av_seas_temp.head()"
   ]
  },
  {
   "cell_type": "code",
   "execution_count": 18,
   "id": "e4201469-2bc9-41a1-afb6-da0616879003",
   "metadata": {},
   "outputs": [],
   "source": [
    "changes_anual_temp = pd.read_csv(r'C:\\Users\\ricar\\OneDrive\\Escritorio\\Masters_of_Statistics\\Semester_6\\Modern_Data_Analytics\\Project\\August_Exam\\MDA_August_Project\\0.raw_data\\Wheather_and_climate\\Seasonal_Temperatures\\changes_anual_temperature.csv')\n",
    "changes_anual_temp = pd.DataFrame(changes_anual_temp)"
   ]
  },
  {
   "cell_type": "code",
   "execution_count": 19,
   "id": "720e97fc-98d7-4b99-949d-ebbe9281874e",
   "metadata": {},
   "outputs": [
    {
     "name": "stdout",
     "output_type": "stream",
     "text": [
      "#==============#\n",
      "Data Type:\n",
      "<class 'pandas.core.frame.DataFrame'>\n",
      "RangeIndex: 4 entries, 0 to 3\n",
      "Data columns (total 2 columns):\n",
      " #   Column        Non-Null Count  Dtype  \n",
      "---  ------        --------------  -----  \n",
      " 0   Season        4 non-null      object \n",
      " 1   Total change  4 non-null      float64\n",
      "dtypes: float64(1), object(1)\n",
      "memory usage: 192.0+ bytes\n",
      "None\n",
      "#==============#\n",
      "Matrix size:\n",
      "(4, 2)\n",
      "#==============#\n",
      "Missing Values:\n",
      "Season          0\n",
      "Total change    0\n",
      "dtype: int64\n",
      "#==============#\n",
      "Dataset:\n"
     ]
    },
    {
     "data": {
      "text/html": [
       "<div>\n",
       "<style scoped>\n",
       "    .dataframe tbody tr th:only-of-type {\n",
       "        vertical-align: middle;\n",
       "    }\n",
       "\n",
       "    .dataframe tbody tr th {\n",
       "        vertical-align: top;\n",
       "    }\n",
       "\n",
       "    .dataframe thead th {\n",
       "        text-align: right;\n",
       "    }\n",
       "</style>\n",
       "<table border=\"1\" class=\"dataframe\">\n",
       "  <thead>\n",
       "    <tr style=\"text-align: right;\">\n",
       "      <th></th>\n",
       "      <th>Season</th>\n",
       "      <th>Total change</th>\n",
       "    </tr>\n",
       "  </thead>\n",
       "  <tbody>\n",
       "    <tr>\n",
       "      <th>0</th>\n",
       "      <td>Winter</td>\n",
       "      <td>2.806377</td>\n",
       "    </tr>\n",
       "    <tr>\n",
       "      <th>1</th>\n",
       "      <td>Spring</td>\n",
       "      <td>1.899581</td>\n",
       "    </tr>\n",
       "    <tr>\n",
       "      <th>2</th>\n",
       "      <td>Summer</td>\n",
       "      <td>1.411162</td>\n",
       "    </tr>\n",
       "    <tr>\n",
       "      <th>3</th>\n",
       "      <td>Fall</td>\n",
       "      <td>1.375048</td>\n",
       "    </tr>\n",
       "  </tbody>\n",
       "</table>\n",
       "</div>"
      ],
      "text/plain": [
       "   Season  Total change\n",
       "0  Winter      2.806377\n",
       "1  Spring      1.899581\n",
       "2  Summer      1.411162\n",
       "3    Fall      1.375048"
      ]
     },
     "execution_count": 19,
     "metadata": {},
     "output_type": "execute_result"
    }
   ],
   "source": [
    "print(\"#==============#\")\n",
    "print(\"Data Type:\")\n",
    "print(changes_anual_temp.info())\n",
    "print(\"#==============#\")\n",
    "print(\"Matrix size:\")\n",
    "print(changes_anual_temp.shape)\n",
    "print(\"#==============#\")\n",
    "print(\"Missing Values:\")\n",
    "print(changes_anual_temp.isna().sum())\n",
    "print(\"#==============#\")\n",
    "print(\"Dataset:\")\n",
    "changes_anual_temp.head()"
   ]
  },
  {
   "cell_type": "markdown",
   "id": "9f959a43-7a76-4cf2-bbd5-4757641b9091",
   "metadata": {},
   "source": [
    "## Preprocessing for Changes in Seasonal Temperature datasets"
   ]
  },
  {
   "cell_type": "markdown",
   "id": "10d7b80b-3726-4ac3-b7da-c15ef48b5258",
   "metadata": {},
   "source": [
    "The cleaning step for these dataset are as follows:\n",
    "1. Visualize variables structure and NAN\n",
    "2. Useing a inner join with the heat wave changes dataset to obtain latitude and longitude for each State.\n",
    "2. Export to preprocessed_data file"
   ]
  },
  {
   "cell_type": "code",
   "execution_count": 20,
   "id": "d9de75d4-5141-4828-84af-ee0d7414634d",
   "metadata": {},
   "outputs": [],
   "source": [
    "changes_seas_temp = pd.read_csv(r'C:\\Users\\ricar\\OneDrive\\Escritorio\\Masters_of_Statistics\\Semester_6\\Modern_Data_Analytics\\Project\\August_Exam\\MDA_August_Project\\0.raw_data\\Wheather_and_climate\\Seasonal_Temperatures\\changes_seasonal_temperature.csv')\n",
    "changes_seas_temp = pd.DataFrame(changes_seas_temp)"
   ]
  },
  {
   "cell_type": "code",
   "execution_count": 21,
   "id": "ab11714c-98c8-450e-864a-d549b72b687c",
   "metadata": {},
   "outputs": [
    {
     "name": "stdout",
     "output_type": "stream",
     "text": [
      "#==============#\n",
      "Data Type:\n",
      "<class 'pandas.core.frame.DataFrame'>\n",
      "RangeIndex: 48 entries, 0 to 47\n",
      "Data columns (total 5 columns):\n",
      " #   Column  Non-Null Count  Dtype  \n",
      "---  ------  --------------  -----  \n",
      " 0   State   48 non-null     object \n",
      " 1   Winter  48 non-null     float64\n",
      " 2   Spring  48 non-null     float64\n",
      " 3   Summer  48 non-null     float64\n",
      " 4   Fall    48 non-null     float64\n",
      "dtypes: float64(4), object(1)\n",
      "memory usage: 2.0+ KB\n",
      "None\n",
      "#==============#\n",
      "Matrix size:\n",
      "(48, 5)\n",
      "#==============#\n",
      "Missing Values:\n",
      "State     0\n",
      "Winter    0\n",
      "Spring    0\n",
      "Summer    0\n",
      "Fall      0\n",
      "dtype: int64\n",
      "#==============#\n",
      "Dataset:\n"
     ]
    },
    {
     "data": {
      "text/html": [
       "<div>\n",
       "<style scoped>\n",
       "    .dataframe tbody tr th:only-of-type {\n",
       "        vertical-align: middle;\n",
       "    }\n",
       "\n",
       "    .dataframe tbody tr th {\n",
       "        vertical-align: top;\n",
       "    }\n",
       "\n",
       "    .dataframe thead th {\n",
       "        text-align: right;\n",
       "    }\n",
       "</style>\n",
       "<table border=\"1\" class=\"dataframe\">\n",
       "  <thead>\n",
       "    <tr style=\"text-align: right;\">\n",
       "      <th></th>\n",
       "      <th>State</th>\n",
       "      <th>Winter</th>\n",
       "      <th>Spring</th>\n",
       "      <th>Summer</th>\n",
       "      <th>Fall</th>\n",
       "    </tr>\n",
       "  </thead>\n",
       "  <tbody>\n",
       "    <tr>\n",
       "      <th>0</th>\n",
       "      <td>AL</td>\n",
       "      <td>0.78</td>\n",
       "      <td>-0.14</td>\n",
       "      <td>-0.59</td>\n",
       "      <td>-0.26</td>\n",
       "    </tr>\n",
       "    <tr>\n",
       "      <th>1</th>\n",
       "      <td>AR</td>\n",
       "      <td>0.91</td>\n",
       "      <td>0.51</td>\n",
       "      <td>0.06</td>\n",
       "      <td>-0.15</td>\n",
       "    </tr>\n",
       "  </tbody>\n",
       "</table>\n",
       "</div>"
      ],
      "text/plain": [
       "  State  Winter  Spring  Summer  Fall\n",
       "0    AL    0.78   -0.14   -0.59 -0.26\n",
       "1    AR    0.91    0.51    0.06 -0.15"
      ]
     },
     "execution_count": 21,
     "metadata": {},
     "output_type": "execute_result"
    }
   ],
   "source": [
    "print(\"#==============#\")\n",
    "print(\"Data Type:\")\n",
    "print(changes_seas_temp.info())\n",
    "print(\"#==============#\")\n",
    "print(\"Matrix size:\")\n",
    "print(changes_seas_temp.shape)\n",
    "print(\"#==============#\")\n",
    "print(\"Missing Values:\")\n",
    "print(changes_seas_temp.isna().sum())\n",
    "print(\"#==============#\")\n",
    "print(\"Dataset:\")\n",
    "changes_seas_temp.head(2)"
   ]
  },
  {
   "cell_type": "markdown",
   "id": "bdfd432a-7cf9-4913-b429-f40283cc58e5",
   "metadata": {},
   "source": [
    "Loading changes in hot temperature dataset"
   ]
  },
  {
   "cell_type": "code",
   "execution_count": 22,
   "id": "fe1a6477-2c24-4626-a197-874783b0f19a",
   "metadata": {},
   "outputs": [
    {
     "data": {
      "text/plain": [
       "(1066, 4)"
      ]
     },
     "execution_count": 22,
     "metadata": {},
     "output_type": "execute_result"
    }
   ],
   "source": [
    "change_hot_temp = pd.read_csv(r'C:\\Users\\ricar\\OneDrive\\Escritorio\\Masters_of_Statistics\\Semester_6\\Modern_Data_Analytics\\Project\\August_Exam\\MDA_August_Project\\2.preprocessed_data\\Wheather_and_climate\\High_Temperatures\\df_change_hot_temp.csv')\n",
    "change_hot_temp.shape"
   ]
  },
  {
   "cell_type": "code",
   "execution_count": 23,
   "id": "59497be4-acbf-4a93-aaf6-31b86be798df",
   "metadata": {},
   "outputs": [
    {
     "data": {
      "text/html": [
       "<div>\n",
       "<style scoped>\n",
       "    .dataframe tbody tr th:only-of-type {\n",
       "        vertical-align: middle;\n",
       "    }\n",
       "\n",
       "    .dataframe tbody tr th {\n",
       "        vertical-align: top;\n",
       "    }\n",
       "\n",
       "    .dataframe thead th {\n",
       "        text-align: right;\n",
       "    }\n",
       "</style>\n",
       "<table border=\"1\" class=\"dataframe\">\n",
       "  <thead>\n",
       "    <tr style=\"text-align: right;\">\n",
       "      <th></th>\n",
       "      <th>State</th>\n",
       "      <th>Winter</th>\n",
       "      <th>Spring</th>\n",
       "      <th>Summer</th>\n",
       "      <th>Fall</th>\n",
       "      <th>Lat</th>\n",
       "      <th>Long</th>\n",
       "      <th>Change</th>\n",
       "    </tr>\n",
       "  </thead>\n",
       "  <tbody>\n",
       "    <tr>\n",
       "      <th>0</th>\n",
       "      <td>AL</td>\n",
       "      <td>0.78</td>\n",
       "      <td>-0.14</td>\n",
       "      <td>-0.59</td>\n",
       "      <td>-0.26</td>\n",
       "      <td>31.0583</td>\n",
       "      <td>-87.0550</td>\n",
       "      <td>-13.590869</td>\n",
       "    </tr>\n",
       "    <tr>\n",
       "      <th>1</th>\n",
       "      <td>AL</td>\n",
       "      <td>0.78</td>\n",
       "      <td>-0.14</td>\n",
       "      <td>-0.59</td>\n",
       "      <td>-0.26</td>\n",
       "      <td>30.5467</td>\n",
       "      <td>-87.8808</td>\n",
       "      <td>0.000000</td>\n",
       "    </tr>\n",
       "  </tbody>\n",
       "</table>\n",
       "</div>"
      ],
      "text/plain": [
       "  State  Winter  Spring  Summer  Fall      Lat     Long     Change\n",
       "0    AL    0.78   -0.14   -0.59 -0.26  31.0583 -87.0550 -13.590869\n",
       "1    AL    0.78   -0.14   -0.59 -0.26  30.5467 -87.8808   0.000000"
      ]
     },
     "execution_count": 23,
     "metadata": {},
     "output_type": "execute_result"
    }
   ],
   "source": [
    "# Pandas merge function using an inner join\n",
    "df_changes_seas_temp = pd.merge(changes_seas_temp, change_hot_temp, on ='State', how =\"inner\")\n",
    "df_changes_seas_temp.head(2)"
   ]
  },
  {
   "cell_type": "code",
   "execution_count": 24,
   "id": "7f1a843e-66c9-4112-b4ac-86e37b8253bf",
   "metadata": {},
   "outputs": [],
   "source": [
    "#Variables Selection\n",
    "#cols =['State','Winter','Spring','Summer','Fall','Lat','Long']\n",
    "#df_changes_seas_temp=df_changes_seas_temp[cols]\n",
    "#df_changes_seas_temp.head()"
   ]
  },
  {
   "cell_type": "markdown",
   "id": "9805e13c-5f6a-4b68-8686-21c987540122",
   "metadata": {},
   "source": [
    "## Exporting Datasets"
   ]
  },
  {
   "cell_type": "code",
   "execution_count": 25,
   "id": "2febf6bc-7b38-4cf4-8d53-e089b909b825",
   "metadata": {},
   "outputs": [],
   "source": [
    "av_seas_temp.to_csv(r'C:\\Users\\ricar\\OneDrive\\Escritorio\\Masters_of_Statistics\\Semester_6\\Modern_Data_Analytics\\Project\\August_Exam\\MDA_August_Project\\2.preprocessed_data\\Wheather_and_climate\\Seasonal_Temperature\\av_seas_temp.csv', index = False)"
   ]
  },
  {
   "cell_type": "code",
   "execution_count": 26,
   "id": "5fc1fa57-b931-419d-b992-f6f107b4fb53",
   "metadata": {},
   "outputs": [],
   "source": [
    "changes_anual_temp.to_csv(r'C:\\Users\\ricar\\OneDrive\\Escritorio\\Masters_of_Statistics\\Semester_6\\Modern_Data_Analytics\\Project\\August_Exam\\MDA_August_Project\\2.preprocessed_data\\Wheather_and_climate\\Seasonal_Temperature\\changes_anual_temp.csv', index = False)"
   ]
  },
  {
   "cell_type": "code",
   "execution_count": 27,
   "id": "f3a49644-6eda-4da4-9c5d-66444a471b02",
   "metadata": {},
   "outputs": [],
   "source": [
    "df_changes_seas_temp.to_csv(r'C:\\Users\\ricar\\OneDrive\\Escritorio\\Masters_of_Statistics\\Semester_6\\Modern_Data_Analytics\\Project\\August_Exam\\MDA_August_Project\\2.preprocessed_data\\Wheather_and_climate\\Seasonal_Temperature\\df_changes_seas_temp.csv', index = False)"
   ]
  }
 ],
 "metadata": {
  "kernelspec": {
   "display_name": "Python 3 (ipykernel)",
   "language": "python",
   "name": "python3"
  },
  "language_info": {
   "codemirror_mode": {
    "name": "ipython",
    "version": 3
   },
   "file_extension": ".py",
   "mimetype": "text/x-python",
   "name": "python",
   "nbconvert_exporter": "python",
   "pygments_lexer": "ipython3",
   "version": "3.10.5"
  }
 },
 "nbformat": 4,
 "nbformat_minor": 5
}
