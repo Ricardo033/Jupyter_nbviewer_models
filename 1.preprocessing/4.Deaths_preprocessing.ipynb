{
 "cells": [
  {
   "cell_type": "code",
   "execution_count": 1,
   "id": "e5a31ada-ac83-4034-94eb-d9dc6afa15cf",
   "metadata": {},
   "outputs": [],
   "source": [
    "## Required packages\n",
    "import pandas as pd # To load and modify Datasets"
   ]
  },
  {
   "cell_type": "markdown",
   "id": "c968fec4-b2f1-42a4-a439-3ed8d31a0612",
   "metadata": {},
   "source": [
    "## 1. Heat-Cardiovascular Dataset"
   ]
  },
  {
   "cell_type": "markdown",
   "id": "e175ee5f-8b5c-49d9-aac5-570acfe4337d",
   "metadata": {},
   "source": [
    "The cleaning steps for the Heat-Cardiovascular dataset is as follows:\n",
    "1. Visualize variables structure and NAN\n",
    "2. Rename all variables.\n",
    "3. Round Variables\n",
    "4. Export dataset. "
   ]
  },
  {
   "cell_type": "code",
   "execution_count": 2,
   "id": "4ea86bf7-5246-4d94-a1aa-508d8f0d7b0b",
   "metadata": {},
   "outputs": [],
   "source": [
    "heat_cardio = pd.read_csv(r'C:\\Users\\ricar\\OneDrive\\Escritorio\\Masters_of_Statistics\\Semester_6\\Modern_Data_Analytics\\Project\\August_Exam\\MDA_August_Project\\0.raw_data\\Health_and_Society\\Heat_related_Deaths\\heat_cardiovascular_deaths.csv')\n",
    "heat_cardio = pd.DataFrame(heat_cardio)"
   ]
  },
  {
   "cell_type": "code",
   "execution_count": 3,
   "id": "acfdb7d6-18ee-4fdd-ba0c-510825f47f77",
   "metadata": {},
   "outputs": [
    {
     "name": "stdout",
     "output_type": "stream",
     "text": [
      "#==============#\n",
      "Data Type:\n",
      "<class 'pandas.core.frame.DataFrame'>\n",
      "RangeIndex: 20 entries, 0 to 19\n",
      "Data columns (total 5 columns):\n",
      " #   Column                                                              Non-Null Count  Dtype  \n",
      "---  ------                                                              --------------  -----  \n",
      " 0   Year                                                                20 non-null     int64  \n",
      " 1   Crude summer death rate per million, general population             20 non-null     float64\n",
      " 2   Crude summer death rate per million, age 65+ population             20 non-null     float64\n",
      " 3   Crude summer death rate per million, non-white population           20 non-null     float64\n",
      " 4   Crude summer death rate per million, non-Hispanic black population  20 non-null     float64\n",
      "dtypes: float64(4), int64(1)\n",
      "memory usage: 928.0 bytes\n",
      "None\n",
      "#==============#\n",
      "Matrix size:\n",
      "(20, 5)\n",
      "#==============#\n",
      "Missing Values:\n",
      "Year                                                                  0\n",
      "Crude summer death rate per million, general population               0\n",
      "Crude summer death rate per million, age 65+ population               0\n",
      "Crude summer death rate per million, non-white population             0\n",
      "Crude summer death rate per million, non-Hispanic black population    0\n",
      "dtype: int64\n",
      "#==============#\n",
      "Dataset:\n"
     ]
    },
    {
     "data": {
      "text/html": [
       "<div>\n",
       "<style scoped>\n",
       "    .dataframe tbody tr th:only-of-type {\n",
       "        vertical-align: middle;\n",
       "    }\n",
       "\n",
       "    .dataframe tbody tr th {\n",
       "        vertical-align: top;\n",
       "    }\n",
       "\n",
       "    .dataframe thead th {\n",
       "        text-align: right;\n",
       "    }\n",
       "</style>\n",
       "<table border=\"1\" class=\"dataframe\">\n",
       "  <thead>\n",
       "    <tr style=\"text-align: right;\">\n",
       "      <th></th>\n",
       "      <th>Year</th>\n",
       "      <th>Crude summer death rate per million, general population</th>\n",
       "      <th>Crude summer death rate per million, age 65+ population</th>\n",
       "      <th>Crude summer death rate per million, non-white population</th>\n",
       "      <th>Crude summer death rate per million, non-Hispanic black population</th>\n",
       "    </tr>\n",
       "  </thead>\n",
       "  <tbody>\n",
       "    <tr>\n",
       "      <th>0</th>\n",
       "      <td>1999</td>\n",
       "      <td>1.082281</td>\n",
       "      <td>5.977382</td>\n",
       "      <td>2.244184</td>\n",
       "      <td>3.139199</td>\n",
       "    </tr>\n",
       "    <tr>\n",
       "      <th>1</th>\n",
       "      <td>2000</td>\n",
       "      <td>0.369552</td>\n",
       "      <td>2.200519</td>\n",
       "      <td>0.798658</td>\n",
       "      <td>1.054377</td>\n",
       "    </tr>\n",
       "  </tbody>\n",
       "</table>\n",
       "</div>"
      ],
      "text/plain": [
       "   Year  Crude summer death rate per million, general population  \\\n",
       "0  1999                                           1.082281         \n",
       "1  2000                                           0.369552         \n",
       "\n",
       "   Crude summer death rate per million, age 65+ population  \\\n",
       "0                                           5.977382         \n",
       "1                                           2.200519         \n",
       "\n",
       "   Crude summer death rate per million, non-white population  \\\n",
       "0                                           2.244184           \n",
       "1                                           0.798658           \n",
       "\n",
       "   Crude summer death rate per million, non-Hispanic black population  \n",
       "0                                           3.139199                   \n",
       "1                                           1.054377                   "
      ]
     },
     "execution_count": 3,
     "metadata": {},
     "output_type": "execute_result"
    }
   ],
   "source": [
    "print(\"#==============#\")\n",
    "print(\"Data Type:\")\n",
    "print(heat_cardio.info())\n",
    "print(\"#==============#\")\n",
    "print(\"Matrix size:\")\n",
    "print(heat_cardio.shape)\n",
    "print(\"#==============#\")\n",
    "print(\"Missing Values:\")\n",
    "print(heat_cardio.isna().sum())\n",
    "print(\"#==============#\")\n",
    "print(\"Dataset:\")\n",
    "heat_cardio.head(2)"
   ]
  },
  {
   "cell_type": "code",
   "execution_count": 4,
   "id": "a3998d7b-94dc-4f0e-8357-5936cd7ce26e",
   "metadata": {},
   "outputs": [
    {
     "data": {
      "text/html": [
       "<div>\n",
       "<style scoped>\n",
       "    .dataframe tbody tr th:only-of-type {\n",
       "        vertical-align: middle;\n",
       "    }\n",
       "\n",
       "    .dataframe tbody tr th {\n",
       "        vertical-align: top;\n",
       "    }\n",
       "\n",
       "    .dataframe thead th {\n",
       "        text-align: right;\n",
       "    }\n",
       "</style>\n",
       "<table border=\"1\" class=\"dataframe\">\n",
       "  <thead>\n",
       "    <tr style=\"text-align: right;\">\n",
       "      <th></th>\n",
       "      <th>Year</th>\n",
       "      <th>General_Population</th>\n",
       "      <th>age_65+</th>\n",
       "      <th>White_Population</th>\n",
       "      <th>Afro_American</th>\n",
       "    </tr>\n",
       "  </thead>\n",
       "  <tbody>\n",
       "    <tr>\n",
       "      <th>0</th>\n",
       "      <td>1999</td>\n",
       "      <td>1.082281</td>\n",
       "      <td>5.977382</td>\n",
       "      <td>2.244184</td>\n",
       "      <td>3.139199</td>\n",
       "    </tr>\n",
       "    <tr>\n",
       "      <th>1</th>\n",
       "      <td>2000</td>\n",
       "      <td>0.369552</td>\n",
       "      <td>2.200519</td>\n",
       "      <td>0.798658</td>\n",
       "      <td>1.054377</td>\n",
       "    </tr>\n",
       "  </tbody>\n",
       "</table>\n",
       "</div>"
      ],
      "text/plain": [
       "   Year  General_Population   age_65+  White_Population  Afro_American\n",
       "0  1999            1.082281  5.977382          2.244184       3.139199\n",
       "1  2000            0.369552  2.200519          0.798658       1.054377"
      ]
     },
     "execution_count": 4,
     "metadata": {},
     "output_type": "execute_result"
    }
   ],
   "source": [
    "df_heat_cardio = heat_cardio.rename(columns={\"Crude summer death rate per million, general population\":\"General_Population\",\n",
    "                                              \"Crude summer death rate per million, age 65+ population\":\"age_65+\",\n",
    "                                              \"Crude summer death rate per million, non-white population\":\"White_Population\",\n",
    "                                              \"Crude summer death rate per million, non-Hispanic black population\": \"Afro_American\"})\n",
    "df_heat_cardio.head(2)"
   ]
  },
  {
   "cell_type": "code",
   "execution_count": 5,
   "id": "54b63b01-e8dd-4424-8d34-78ab0579af42",
   "metadata": {},
   "outputs": [
    {
     "data": {
      "text/html": [
       "<div>\n",
       "<style scoped>\n",
       "    .dataframe tbody tr th:only-of-type {\n",
       "        vertical-align: middle;\n",
       "    }\n",
       "\n",
       "    .dataframe tbody tr th {\n",
       "        vertical-align: top;\n",
       "    }\n",
       "\n",
       "    .dataframe thead th {\n",
       "        text-align: right;\n",
       "    }\n",
       "</style>\n",
       "<table border=\"1\" class=\"dataframe\">\n",
       "  <thead>\n",
       "    <tr style=\"text-align: right;\">\n",
       "      <th></th>\n",
       "      <th>Year</th>\n",
       "      <th>General_Population</th>\n",
       "      <th>age_65+</th>\n",
       "      <th>White_Population</th>\n",
       "      <th>Afro_American</th>\n",
       "    </tr>\n",
       "  </thead>\n",
       "  <tbody>\n",
       "    <tr>\n",
       "      <th>0</th>\n",
       "      <td>1999</td>\n",
       "      <td>1.08</td>\n",
       "      <td>5.98</td>\n",
       "      <td>2.24</td>\n",
       "      <td>3.14</td>\n",
       "    </tr>\n",
       "    <tr>\n",
       "      <th>1</th>\n",
       "      <td>2000</td>\n",
       "      <td>0.37</td>\n",
       "      <td>2.20</td>\n",
       "      <td>0.80</td>\n",
       "      <td>1.05</td>\n",
       "    </tr>\n",
       "  </tbody>\n",
       "</table>\n",
       "</div>"
      ],
      "text/plain": [
       "   Year  General_Population  age_65+  White_Population  Afro_American\n",
       "0  1999                1.08     5.98              2.24           3.14\n",
       "1  2000                0.37     2.20              0.80           1.05"
      ]
     },
     "execution_count": 5,
     "metadata": {},
     "output_type": "execute_result"
    }
   ],
   "source": [
    "df_heat_cardio = round(df_heat_cardio,2)\n",
    "df_heat_cardio.head(2)"
   ]
  },
  {
   "cell_type": "markdown",
   "id": "0b81943d-9f6d-48e9-8882-a3f2de402a68",
   "metadata": {},
   "source": [
    "## 2. Heat-related Deaths Dataset"
   ]
  },
  {
   "cell_type": "markdown",
   "id": "622816fc-6c8f-406c-b310-e4a5dad08d79",
   "metadata": {},
   "source": [
    "The cleaning steps for the Heat-related dataset is as follows:\n",
    "1. Visualize variables structure and NAN\n",
    "2. Rename variables.\n",
    "3. Round Variables\n",
    "4. Export dataset. "
   ]
  },
  {
   "cell_type": "code",
   "execution_count": 6,
   "id": "8413ef30-f798-42b0-aaa2-0e1836803d8d",
   "metadata": {},
   "outputs": [],
   "source": [
    "heat_related_deaths = pd.read_csv(r'C:\\Users\\ricar\\OneDrive\\Escritorio\\Masters_of_Statistics\\Semester_6\\Modern_Data_Analytics\\Project\\August_Exam\\MDA_August_Project\\0.raw_data\\Health_and_Society\\Heat_related_Deaths\\heat_related_deaths.csv')\n",
    "heat_related_deaths = pd.DataFrame(heat_related_deaths)"
   ]
  },
  {
   "cell_type": "code",
   "execution_count": 7,
   "id": "04461bbb-4897-4ab3-88bd-4b17718681a0",
   "metadata": {},
   "outputs": [
    {
     "name": "stdout",
     "output_type": "stream",
     "text": [
      "#==============#\n",
      "Data Type:\n",
      "<class 'pandas.core.frame.DataFrame'>\n",
      "RangeIndex: 40 entries, 0 to 39\n",
      "Data columns (total 3 columns):\n",
      " #   Column                                                  Non-Null Count  Dtype  \n",
      "---  ------                                                  --------------  -----  \n",
      " 0   Year                                                    40 non-null     int64  \n",
      " 1   Underlying cause of death (all year)                    40 non-null     float64\n",
      " 2   Underlying and contributing causes of death (May-Sept)  20 non-null     float64\n",
      "dtypes: float64(2), int64(1)\n",
      "memory usage: 1.1 KB\n",
      "None\n",
      "#==============#\n",
      "Matrix size:\n",
      "(40, 3)\n",
      "#==============#\n",
      "Missing Values:\n",
      "Year                                                       0\n",
      "Underlying cause of death (all year)                       0\n",
      "Underlying and contributing causes of death (May-Sept)    20\n",
      "dtype: int64\n",
      "#==============#\n",
      "Dataset:\n"
     ]
    },
    {
     "data": {
      "text/html": [
       "<div>\n",
       "<style scoped>\n",
       "    .dataframe tbody tr th:only-of-type {\n",
       "        vertical-align: middle;\n",
       "    }\n",
       "\n",
       "    .dataframe tbody tr th {\n",
       "        vertical-align: top;\n",
       "    }\n",
       "\n",
       "    .dataframe thead th {\n",
       "        text-align: right;\n",
       "    }\n",
       "</style>\n",
       "<table border=\"1\" class=\"dataframe\">\n",
       "  <thead>\n",
       "    <tr style=\"text-align: right;\">\n",
       "      <th></th>\n",
       "      <th>Year</th>\n",
       "      <th>Underlying cause of death (all year)</th>\n",
       "      <th>Underlying and contributing causes of death (May-Sept)</th>\n",
       "    </tr>\n",
       "  </thead>\n",
       "  <tbody>\n",
       "    <tr>\n",
       "      <th>0</th>\n",
       "      <td>1979</td>\n",
       "      <td>0.240390</td>\n",
       "      <td>NaN</td>\n",
       "    </tr>\n",
       "    <tr>\n",
       "      <th>1</th>\n",
       "      <td>1980</td>\n",
       "      <td>2.872595</td>\n",
       "      <td>NaN</td>\n",
       "    </tr>\n",
       "    <tr>\n",
       "      <th>2</th>\n",
       "      <td>1981</td>\n",
       "      <td>0.488044</td>\n",
       "      <td>NaN</td>\n",
       "    </tr>\n",
       "    <tr>\n",
       "      <th>3</th>\n",
       "      <td>1982</td>\n",
       "      <td>0.323692</td>\n",
       "      <td>NaN</td>\n",
       "    </tr>\n",
       "  </tbody>\n",
       "</table>\n",
       "</div>"
      ],
      "text/plain": [
       "   Year  Underlying cause of death (all year)  \\\n",
       "0  1979                              0.240390   \n",
       "1  1980                              2.872595   \n",
       "2  1981                              0.488044   \n",
       "3  1982                              0.323692   \n",
       "\n",
       "   Underlying and contributing causes of death (May-Sept)  \n",
       "0                                                NaN       \n",
       "1                                                NaN       \n",
       "2                                                NaN       \n",
       "3                                                NaN       "
      ]
     },
     "execution_count": 7,
     "metadata": {},
     "output_type": "execute_result"
    }
   ],
   "source": [
    "print(\"#==============#\")\n",
    "print(\"Data Type:\")\n",
    "print(heat_related_deaths.info())\n",
    "print(\"#==============#\")\n",
    "print(\"Matrix size:\")\n",
    "print(heat_related_deaths.shape)\n",
    "print(\"#==============#\")\n",
    "print(\"Missing Values:\")\n",
    "print(heat_related_deaths.isna().sum())\n",
    "print(\"#==============#\")\n",
    "print(\"Dataset:\")\n",
    "heat_related_deaths.head(4)"
   ]
  },
  {
   "cell_type": "code",
   "execution_count": 8,
   "id": "196617cd-0ff3-4c1c-a72f-4f678ba5d0b9",
   "metadata": {},
   "outputs": [],
   "source": [
    "heat_related_deaths = heat_related_deaths.rename(columns={\"Underlying cause of death (all year)\":\"All_year\",\n",
    "                                                          \"Underlying and contributing causes of death (May-Sept)\":\"May-Sep\"})\n",
    "df_heat_related_deaths = round(heat_related_deaths,2)"
   ]
  },
  {
   "cell_type": "code",
   "execution_count": 9,
   "id": "c7ac6aac-6b26-4dbd-bf41-2917b5795665",
   "metadata": {},
   "outputs": [
    {
     "data": {
      "text/html": [
       "<div>\n",
       "<style scoped>\n",
       "    .dataframe tbody tr th:only-of-type {\n",
       "        vertical-align: middle;\n",
       "    }\n",
       "\n",
       "    .dataframe tbody tr th {\n",
       "        vertical-align: top;\n",
       "    }\n",
       "\n",
       "    .dataframe thead th {\n",
       "        text-align: right;\n",
       "    }\n",
       "</style>\n",
       "<table border=\"1\" class=\"dataframe\">\n",
       "  <thead>\n",
       "    <tr style=\"text-align: right;\">\n",
       "      <th></th>\n",
       "      <th>Year</th>\n",
       "      <th>All_year</th>\n",
       "      <th>May-Sep</th>\n",
       "    </tr>\n",
       "  </thead>\n",
       "  <tbody>\n",
       "    <tr>\n",
       "      <th>0</th>\n",
       "      <td>1979</td>\n",
       "      <td>0.24</td>\n",
       "      <td>NaN</td>\n",
       "    </tr>\n",
       "    <tr>\n",
       "      <th>1</th>\n",
       "      <td>1980</td>\n",
       "      <td>2.87</td>\n",
       "      <td>NaN</td>\n",
       "    </tr>\n",
       "  </tbody>\n",
       "</table>\n",
       "</div>"
      ],
      "text/plain": [
       "   Year  All_year  May-Sep\n",
       "0  1979      0.24      NaN\n",
       "1  1980      2.87      NaN"
      ]
     },
     "execution_count": 9,
     "metadata": {},
     "output_type": "execute_result"
    }
   ],
   "source": [
    "df_heat_related_deaths.head(2)"
   ]
  },
  {
   "cell_type": "markdown",
   "id": "a3fb880f-1b9c-4318-95e1-ae3411678114",
   "metadata": {},
   "source": [
    "In this case, we do not replace the NAN values as we want to show in the plots that there were no death records for some years, but it does not mean the number of deaths was zero. "
   ]
  },
  {
   "cell_type": "markdown",
   "id": "55ad8176-5690-4788-95d5-8830755d8bee",
   "metadata": {},
   "source": [
    "## 3. HD_chicago_95 Dataset"
   ]
  },
  {
   "cell_type": "markdown",
   "id": "9a234c48-4a84-4188-a5ca-835f7fea0ac6",
   "metadata": {},
   "source": [
    "The cleaning steps for the HD_chicago_95 dataset is as follows:\n",
    "1. Visualize variables structure and NAN\n",
    "2. Rename variables.\n",
    "3. Round Variables\n",
    "4. Export dataset. "
   ]
  },
  {
   "cell_type": "code",
   "execution_count": 10,
   "id": "8258c4cc-a7b3-4f0d-9bb3-e390bdfff1d9",
   "metadata": {},
   "outputs": [],
   "source": [
    "HD_chicago_95 = pd.read_csv(r'C:\\Users\\ricar\\OneDrive\\Escritorio\\Masters_of_Statistics\\Semester_6\\Modern_Data_Analytics\\Project\\August_Exam\\MDA_August_Project\\0.raw_data\\Health_and_Society\\Heat_related_Deaths\\heat_deaths_chicago_1995.csv',encoding='latin-1')\n",
    "HD_chicago_95 = pd.DataFrame(HD_chicago_95)"
   ]
  },
  {
   "cell_type": "code",
   "execution_count": 11,
   "id": "384fb668-9122-4859-b56e-f4dea80cf285",
   "metadata": {},
   "outputs": [
    {
     "name": "stdout",
     "output_type": "stream",
     "text": [
      "#==============#\n",
      "Data Type:\n",
      "<class 'pandas.core.frame.DataFrame'>\n",
      "RangeIndex: 92 entries, 0 to 91\n",
      "Data columns (total 6 columns):\n",
      " #   Column                             Non-Null Count  Dtype  \n",
      "---  ------                             --------------  -----  \n",
      " 0   Month                              92 non-null     int64  \n",
      " 1   Day                                92 non-null     int64  \n",
      " 2   Year                               92 non-null     int64  \n",
      " 3   Daily deaths, 1995                 92 non-null     int64  \n",
      " 4   Average daily deaths, 1990-2000    92 non-null     float64\n",
      " 5   Daily high temperature, 1995 (°F)  92 non-null     float64\n",
      "dtypes: float64(2), int64(4)\n",
      "memory usage: 4.4 KB\n",
      "None\n",
      "#==============#\n",
      "Matrix size:\n",
      "(92, 6)\n",
      "#==============#\n",
      "Missing Values:\n",
      "Month                                0\n",
      "Day                                  0\n",
      "Year                                 0\n",
      "Daily deaths, 1995                   0\n",
      "Average daily deaths, 1990-2000      0\n",
      "Daily high temperature, 1995 (°F)    0\n",
      "dtype: int64\n",
      "#==============#\n",
      "Dataset:\n"
     ]
    },
    {
     "data": {
      "text/html": [
       "<div>\n",
       "<style scoped>\n",
       "    .dataframe tbody tr th:only-of-type {\n",
       "        vertical-align: middle;\n",
       "    }\n",
       "\n",
       "    .dataframe tbody tr th {\n",
       "        vertical-align: top;\n",
       "    }\n",
       "\n",
       "    .dataframe thead th {\n",
       "        text-align: right;\n",
       "    }\n",
       "</style>\n",
       "<table border=\"1\" class=\"dataframe\">\n",
       "  <thead>\n",
       "    <tr style=\"text-align: right;\">\n",
       "      <th></th>\n",
       "      <th>Month</th>\n",
       "      <th>Day</th>\n",
       "      <th>Year</th>\n",
       "      <th>Daily deaths, 1995</th>\n",
       "      <th>Average daily deaths, 1990-2000</th>\n",
       "      <th>Daily high temperature, 1995 (°F)</th>\n",
       "    </tr>\n",
       "  </thead>\n",
       "  <tbody>\n",
       "    <tr>\n",
       "      <th>0</th>\n",
       "      <td>6</td>\n",
       "      <td>1</td>\n",
       "      <td>1995</td>\n",
       "      <td>164</td>\n",
       "      <td>160.909091</td>\n",
       "      <td>80.06</td>\n",
       "    </tr>\n",
       "    <tr>\n",
       "      <th>1</th>\n",
       "      <td>6</td>\n",
       "      <td>2</td>\n",
       "      <td>1995</td>\n",
       "      <td>173</td>\n",
       "      <td>168.181818</td>\n",
       "      <td>75.92</td>\n",
       "    </tr>\n",
       "  </tbody>\n",
       "</table>\n",
       "</div>"
      ],
      "text/plain": [
       "   Month  Day  Year  Daily deaths, 1995  Average daily deaths, 1990-2000  \\\n",
       "0      6    1  1995                 164                       160.909091   \n",
       "1      6    2  1995                 173                       168.181818   \n",
       "\n",
       "   Daily high temperature, 1995 (°F)  \n",
       "0                              80.06  \n",
       "1                              75.92  "
      ]
     },
     "execution_count": 11,
     "metadata": {},
     "output_type": "execute_result"
    }
   ],
   "source": [
    "print(\"#==============#\")\n",
    "print(\"Data Type:\")\n",
    "print(HD_chicago_95.info())\n",
    "print(\"#==============#\")\n",
    "print(\"Matrix size:\")\n",
    "print(HD_chicago_95.shape)\n",
    "print(\"#==============#\")\n",
    "print(\"Missing Values:\")\n",
    "print(HD_chicago_95.isna().sum())\n",
    "print(\"#==============#\")\n",
    "print(\"Dataset:\")\n",
    "HD_chicago_95.head(2)"
   ]
  },
  {
   "cell_type": "code",
   "execution_count": 12,
   "id": "a92f5b54-0420-4dc3-a997-4afa5ef7a0b2",
   "metadata": {},
   "outputs": [
    {
     "data": {
      "text/html": [
       "<div>\n",
       "<style scoped>\n",
       "    .dataframe tbody tr th:only-of-type {\n",
       "        vertical-align: middle;\n",
       "    }\n",
       "\n",
       "    .dataframe tbody tr th {\n",
       "        vertical-align: top;\n",
       "    }\n",
       "\n",
       "    .dataframe thead th {\n",
       "        text-align: right;\n",
       "    }\n",
       "</style>\n",
       "<table border=\"1\" class=\"dataframe\">\n",
       "  <thead>\n",
       "    <tr style=\"text-align: right;\">\n",
       "      <th></th>\n",
       "      <th>Month</th>\n",
       "      <th>Day</th>\n",
       "      <th>Year</th>\n",
       "      <th>1995</th>\n",
       "      <th>1990-2000</th>\n",
       "      <th>Temp_1995_°F</th>\n",
       "    </tr>\n",
       "  </thead>\n",
       "  <tbody>\n",
       "    <tr>\n",
       "      <th>0</th>\n",
       "      <td>6</td>\n",
       "      <td>1</td>\n",
       "      <td>1995</td>\n",
       "      <td>164</td>\n",
       "      <td>160.91</td>\n",
       "      <td>80.06</td>\n",
       "    </tr>\n",
       "    <tr>\n",
       "      <th>1</th>\n",
       "      <td>6</td>\n",
       "      <td>2</td>\n",
       "      <td>1995</td>\n",
       "      <td>173</td>\n",
       "      <td>168.18</td>\n",
       "      <td>75.92</td>\n",
       "    </tr>\n",
       "  </tbody>\n",
       "</table>\n",
       "</div>"
      ],
      "text/plain": [
       "   Month  Day  Year  1995  1990-2000  Temp_1995_°F\n",
       "0      6    1  1995   164     160.91         80.06\n",
       "1      6    2  1995   173     168.18         75.92"
      ]
     },
     "execution_count": 12,
     "metadata": {},
     "output_type": "execute_result"
    }
   ],
   "source": [
    "HD_chicago_95 = HD_chicago_95.rename(columns={\"Daily deaths, 1995\":\"1995\",\n",
    "                                                          \"Average daily deaths, 1990-2000\":\"1990-2000\",\n",
    "                                                          \"Daily high temperature, 1995 (°F)\":\"Temp_1995_°F\"})\n",
    "df_HD_chicago_95 = round(HD_chicago_95,2)\n",
    "df_HD_chicago_95.head(2)"
   ]
  },
  {
   "cell_type": "markdown",
   "id": "5d6da2fc-2c30-4042-81c8-b09642c5c700",
   "metadata": {},
   "source": [
    "## Exporting Datasets"
   ]
  },
  {
   "cell_type": "code",
   "execution_count": 13,
   "id": "0ad44d2e-b7a9-4f2e-90f5-651ec3d5c876",
   "metadata": {},
   "outputs": [],
   "source": [
    "df_heat_cardio.to_csv(r'C:\\Users\\ricar\\OneDrive\\Escritorio\\Masters_of_Statistics\\Semester_6\\Modern_Data_Analytics\\Project\\August_Exam\\MDA_August_Project\\2.preprocessed_data\\Deaths\\df_heat_cardio.csv', index = False)"
   ]
  },
  {
   "cell_type": "code",
   "execution_count": 14,
   "id": "9e9e90a6-d309-4da1-97c6-1a523db4cfad",
   "metadata": {},
   "outputs": [],
   "source": [
    "df_heat_related_deaths.to_csv(r'C:\\Users\\ricar\\OneDrive\\Escritorio\\Masters_of_Statistics\\Semester_6\\Modern_Data_Analytics\\Project\\August_Exam\\MDA_August_Project\\2.preprocessed_data\\Deaths\\df_heat_related_deaths.csv', index = False)"
   ]
  },
  {
   "cell_type": "code",
   "execution_count": 15,
   "id": "d34c545a-20c1-480f-a7f2-4648c016109c",
   "metadata": {},
   "outputs": [],
   "source": [
    "df_HD_chicago_95.to_csv(r'C:\\Users\\ricar\\OneDrive\\Escritorio\\Masters_of_Statistics\\Semester_6\\Modern_Data_Analytics\\Project\\August_Exam\\MDA_August_Project\\2.preprocessed_data\\Deaths\\df_HD_chicago_95.csv', index = False)"
   ]
  }
 ],
 "metadata": {
  "kernelspec": {
   "display_name": "Python 3 (ipykernel)",
   "language": "python",
   "name": "python3"
  },
  "language_info": {
   "codemirror_mode": {
    "name": "ipython",
    "version": 3
   },
   "file_extension": ".py",
   "mimetype": "text/x-python",
   "name": "python",
   "nbconvert_exporter": "python",
   "pygments_lexer": "ipython3",
   "version": "3.10.6"
  }
 },
 "nbformat": 4,
 "nbformat_minor": 5
}
