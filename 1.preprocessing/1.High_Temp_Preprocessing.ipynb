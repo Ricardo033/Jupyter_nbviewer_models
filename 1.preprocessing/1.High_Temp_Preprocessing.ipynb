{
 "cells": [
  {
   "cell_type": "code",
   "execution_count": 1,
   "id": "017c7b88-10c6-4484-ac0d-994c0be95c08",
   "metadata": {},
   "outputs": [],
   "source": [
    "## Required packages\n",
    "import pandas as pd"
   ]
  },
  {
   "cell_type": "markdown",
   "id": "e2c0ffdb-27e1-4d4a-a822-5e69ad9d4dc3",
   "metadata": {},
   "source": [
    "## Changes Hot Temperatures dataset (Summer months)"
   ]
  },
  {
   "cell_type": "markdown",
   "id": "04a5f463-4e3c-4dfa-8f76-85f6c0f63fd8",
   "metadata": {},
   "source": [
    "The cleaning steps for the Hot Temperatures dataset is as follows:\n",
    "1. Visualize variables structure and NAN\n",
    "2. Rename last variable\n",
    "3. Export to preprocessed_data file\n"
   ]
  },
  {
   "cell_type": "code",
   "execution_count": 2,
   "id": "c58cde27-f63e-46fb-bcd6-6be3da06c88c",
   "metadata": {},
   "outputs": [],
   "source": [
    "change_hot_temp= pd.read_csv(r'C:\\Users\\ricar\\OneDrive\\Escritorio\\Masters_of_Statistics\\Semester_6\\Modern_Data_Analytics\\Project\\August_Exam\\MDA_August_Project\\0.raw_data\\Wheather_and_climate\\High_Low_temperatures\\change_hot_temperatures.csv')\n",
    "change_hot_temp = pd.DataFrame(change_hot_temp)"
   ]
  },
  {
   "cell_type": "code",
   "execution_count": 3,
   "id": "1e35e789-421c-4c3d-9c0a-e40be93435a2",
   "metadata": {},
   "outputs": [
    {
     "name": "stdout",
     "output_type": "stream",
     "text": [
      "#==============#\n",
      "Data Type:\n",
      "<class 'pandas.core.frame.DataFrame'>\n",
      "RangeIndex: 1066 entries, 0 to 1065\n",
      "Data columns (total 4 columns):\n",
      " #   Column                     Non-Null Count  Dtype  \n",
      "---  ------                     --------------  -----  \n",
      " 0   State                      1066 non-null   object \n",
      " 1   Lat                        1066 non-null   float64\n",
      " 2   Long                       1066 non-null   float64\n",
      " 3   Change in 95 percent Days  1066 non-null   float64\n",
      "dtypes: float64(3), object(1)\n",
      "memory usage: 33.4+ KB\n",
      "None\n",
      "#==============#\n",
      "Matrix size:\n",
      "(1066, 4)\n",
      "#==============#\n",
      "Missing Values:\n",
      "State                        0\n",
      "Lat                          0\n",
      "Long                         0\n",
      "Change in 95 percent Days    0\n",
      "dtype: int64\n",
      "#==============#\n",
      "Dataset:\n"
     ]
    }
   ],
   "source": [
    "print(\"#==============#\")\n",
    "print(\"Data Type:\")\n",
    "print(change_hot_temp.info())\n",
    "print(\"#==============#\")\n",
    "print(\"Matrix size:\")\n",
    "print(change_hot_temp.shape)\n",
    "print(\"#==============#\")\n",
    "print(\"Missing Values:\")\n",
    "print(change_hot_temp.isna().sum())\n",
    "print(\"#==============#\")\n",
    "print(\"Dataset:\")"
   ]
  },
  {
   "cell_type": "code",
   "execution_count": null,
   "id": "682e1c74-9d0f-4549-bc56-204128fa941f",
   "metadata": {},
   "outputs": [],
   "source": [
    "change_hot_temp"
   ]
  },
  {
   "cell_type": "code",
   "execution_count": 4,
   "id": "bdd9bc14-c2ec-448f-a7d0-20318f927129",
   "metadata": {},
   "outputs": [
    {
     "data": {
      "text/html": [
       "<div>\n",
       "<style scoped>\n",
       "    .dataframe tbody tr th:only-of-type {\n",
       "        vertical-align: middle;\n",
       "    }\n",
       "\n",
       "    .dataframe tbody tr th {\n",
       "        vertical-align: top;\n",
       "    }\n",
       "\n",
       "    .dataframe thead th {\n",
       "        text-align: right;\n",
       "    }\n",
       "</style>\n",
       "<table border=\"1\" class=\"dataframe\">\n",
       "  <thead>\n",
       "    <tr style=\"text-align: right;\">\n",
       "      <th></th>\n",
       "      <th>State</th>\n",
       "      <th>Lat</th>\n",
       "      <th>Long</th>\n",
       "      <th>Change</th>\n",
       "    </tr>\n",
       "  </thead>\n",
       "  <tbody>\n",
       "    <tr>\n",
       "      <th>0</th>\n",
       "      <td>AL</td>\n",
       "      <td>31.0583</td>\n",
       "      <td>-87.0550</td>\n",
       "      <td>-13.590869</td>\n",
       "    </tr>\n",
       "    <tr>\n",
       "      <th>1</th>\n",
       "      <td>AL</td>\n",
       "      <td>30.5467</td>\n",
       "      <td>-87.8808</td>\n",
       "      <td>0.000000</td>\n",
       "    </tr>\n",
       "    <tr>\n",
       "      <th>2</th>\n",
       "      <td>AL</td>\n",
       "      <td>32.8347</td>\n",
       "      <td>-88.1342</td>\n",
       "      <td>0.000000</td>\n",
       "    </tr>\n",
       "    <tr>\n",
       "      <th>3</th>\n",
       "      <td>AL</td>\n",
       "      <td>32.6922</td>\n",
       "      <td>-87.5761</td>\n",
       "      <td>-11.444650</td>\n",
       "    </tr>\n",
       "    <tr>\n",
       "      <th>4</th>\n",
       "      <td>AL</td>\n",
       "      <td>31.8814</td>\n",
       "      <td>-86.2503</td>\n",
       "      <td>0.000000</td>\n",
       "    </tr>\n",
       "  </tbody>\n",
       "</table>\n",
       "</div>"
      ],
      "text/plain": [
       "  State      Lat     Long     Change\n",
       "0    AL  31.0583 -87.0550 -13.590869\n",
       "1    AL  30.5467 -87.8808   0.000000\n",
       "2    AL  32.8347 -88.1342   0.000000\n",
       "3    AL  32.6922 -87.5761 -11.444650\n",
       "4    AL  31.8814 -86.2503   0.000000"
      ]
     },
     "execution_count": 4,
     "metadata": {},
     "output_type": "execute_result"
    }
   ],
   "source": [
    "df_change_hot_temp = change_hot_temp.rename(columns={\"Change in 95 percent Days\":\"Change\"})\n",
    "df_change_hot_temp.head(5)"
   ]
  },
  {
   "cell_type": "markdown",
   "id": "20017b3f-f2fe-4660-bf69-8514bedd9d17",
   "metadata": {},
   "source": [
    "## Hot summer dataset"
   ]
  },
  {
   "cell_type": "markdown",
   "id": "9d95db69-370d-48e8-9342-050d09c557ca",
   "metadata": {},
   "source": [
    "The cleaning steps for the Hot summer dataset is as follows:\n",
    "1. Visualize variables structure and NAN\n",
    "2. Round decimals.\n",
    "3. Rename Variables.\n",
    "4. Export to preprocessed_data file\n"
   ]
  },
  {
   "cell_type": "code",
   "execution_count": 5,
   "id": "e8a4b849-5974-4dcf-a49b-dbd1bc1fd9a4",
   "metadata": {},
   "outputs": [],
   "source": [
    "hot_summer= pd.read_csv(r'C:\\Users\\ricar\\OneDrive\\Escritorio\\Masters_of_Statistics\\Semester_6\\Modern_Data_Analytics\\Project\\August_Exam\\MDA_August_Project\\0.raw_data\\Wheather_and_climate\\High_Low_temperatures/Hot_summer.csv')\n",
    "hot_summer = pd.DataFrame(hot_summer)"
   ]
  },
  {
   "cell_type": "code",
   "execution_count": 6,
   "id": "f8a28031-7e54-48e0-98d4-e07a9d8a9814",
   "metadata": {},
   "outputs": [
    {
     "name": "stdout",
     "output_type": "stream",
     "text": [
      "#==============#\n",
      "Data Type:\n",
      "<class 'pandas.core.frame.DataFrame'>\n",
      "RangeIndex: 111 entries, 0 to 110\n",
      "Data columns (total 5 columns):\n",
      " #   Column                      Non-Null Count  Dtype  \n",
      "---  ------                      --------------  -----  \n",
      " 0   Year                        111 non-null    int64  \n",
      " 1   Hot daily highs             111 non-null    float64\n",
      " 2   Hot daily highs (smoothed)  111 non-null    float64\n",
      " 3   Hot daily lows              111 non-null    float64\n",
      " 4   Hot daily lows (smoothed)   111 non-null    float64\n",
      "dtypes: float64(4), int64(1)\n",
      "memory usage: 4.5 KB\n",
      "None\n",
      "#==============#\n",
      "Matrix size:\n",
      "(111, 5)\n",
      "#==============#\n",
      "Missing Values:\n",
      "Year                          0\n",
      "Hot daily highs               0\n",
      "Hot daily highs (smoothed)    0\n",
      "Hot daily lows                0\n",
      "Hot daily lows (smoothed)     0\n",
      "dtype: int64\n",
      "#==============#\n",
      "Dataset:\n"
     ]
    }
   ],
   "source": [
    "print(\"#==============#\")\n",
    "print(\"Data Type:\")\n",
    "print(hot_summer.info())\n",
    "print(\"#==============#\")\n",
    "print(\"Matrix size:\")\n",
    "print(hot_summer.shape)\n",
    "print(\"#==============#\")\n",
    "print(\"Missing Values:\")\n",
    "print(hot_summer.isna().sum())\n",
    "print(\"#==============#\")\n",
    "print(\"Dataset:\")"
   ]
  },
  {
   "cell_type": "code",
   "execution_count": 7,
   "id": "f82b6417-e0c0-4e31-b960-e05e2cc6dcc5",
   "metadata": {},
   "outputs": [],
   "source": [
    "df_hot_summer = round(hot_summer,3)"
   ]
  },
  {
   "cell_type": "code",
   "execution_count": 8,
   "id": "7b580976-eb8d-45c2-a879-24b736855c3d",
   "metadata": {},
   "outputs": [
    {
     "data": {
      "text/html": [
       "<div>\n",
       "<style scoped>\n",
       "    .dataframe tbody tr th:only-of-type {\n",
       "        vertical-align: middle;\n",
       "    }\n",
       "\n",
       "    .dataframe tbody tr th {\n",
       "        vertical-align: top;\n",
       "    }\n",
       "\n",
       "    .dataframe thead th {\n",
       "        text-align: right;\n",
       "    }\n",
       "</style>\n",
       "<table border=\"1\" class=\"dataframe\">\n",
       "  <thead>\n",
       "    <tr style=\"text-align: right;\">\n",
       "      <th></th>\n",
       "      <th>Year</th>\n",
       "      <th>Hot_days</th>\n",
       "      <th>Hot_days_smoothed</th>\n",
       "      <th>Hot_nights</th>\n",
       "      <th>Hot_nights_smoothed</th>\n",
       "    </tr>\n",
       "  </thead>\n",
       "  <tbody>\n",
       "    <tr>\n",
       "      <th>0</th>\n",
       "      <td>1910</td>\n",
       "      <td>0.074</td>\n",
       "      <td>0.072</td>\n",
       "      <td>0.020</td>\n",
       "      <td>0.021</td>\n",
       "    </tr>\n",
       "    <tr>\n",
       "      <th>1</th>\n",
       "      <td>1911</td>\n",
       "      <td>0.087</td>\n",
       "      <td>0.073</td>\n",
       "      <td>0.031</td>\n",
       "      <td>0.023</td>\n",
       "    </tr>\n",
       "  </tbody>\n",
       "</table>\n",
       "</div>"
      ],
      "text/plain": [
       "   Year  Hot_days  Hot_days_smoothed  Hot_nights  Hot_nights_smoothed\n",
       "0  1910     0.074              0.072       0.020                0.021\n",
       "1  1911     0.087              0.073       0.031                0.023"
      ]
     },
     "execution_count": 8,
     "metadata": {},
     "output_type": "execute_result"
    }
   ],
   "source": [
    "df_hot_summer = df_hot_summer.rename(columns={\"Hot daily highs\":\"Hot_days\",\n",
    "                                              \"Hot daily highs (smoothed)\":\"Hot_days_smoothed\",\n",
    "                                              \"Hot daily lows\":\"Hot_nights\",\n",
    "                                              \"Hot daily lows (smoothed)\":\"Hot_nights_smoothed\"})\n",
    "df_hot_summer.head(2)"
   ]
  },
  {
   "cell_type": "markdown",
   "id": "be2bfdab-b6c4-43f3-b56b-979d57328ae9",
   "metadata": {},
   "source": [
    "## Exporting Datasets"
   ]
  },
  {
   "cell_type": "code",
   "execution_count": 9,
   "id": "9cfd481b-6194-4700-bbda-6394cc96b914",
   "metadata": {},
   "outputs": [],
   "source": [
    "df_change_hot_temp.to_csv(r'C:\\Users\\ricar\\OneDrive\\Escritorio\\Masters_of_Statistics\\Semester_6\\Modern_Data_Analytics\\Project\\August_Exam\\MDA_August_Project\\2.preprocessed_data\\Wheather_and_climate\\High_Temperatures\\df_change_hot_temp.csv', index = False)"
   ]
  },
  {
   "cell_type": "code",
   "execution_count": 10,
   "id": "1b82162b-f93b-4c5e-9860-a624d2f67a91",
   "metadata": {},
   "outputs": [],
   "source": [
    "df_hot_summer.to_csv(r'C:\\Users\\ricar\\OneDrive\\Escritorio\\Masters_of_Statistics\\Semester_6\\Modern_Data_Analytics\\Project\\August_Exam\\MDA_August_Project\\2.preprocessed_data\\Wheather_and_climate\\High_Temperatures\\df_hot_summer.csv', index = False)"
   ]
  }
 ],
 "metadata": {
  "kernelspec": {
   "display_name": "Python 3 (ipykernel)",
   "language": "python",
   "name": "python3"
  },
  "language_info": {
   "codemirror_mode": {
    "name": "ipython",
    "version": 3
   },
   "file_extension": ".py",
   "mimetype": "text/x-python",
   "name": "python",
   "nbconvert_exporter": "python",
   "pygments_lexer": "ipython3",
   "version": "3.10.5"
  }
 },
 "nbformat": 4,
 "nbformat_minor": 5
}
